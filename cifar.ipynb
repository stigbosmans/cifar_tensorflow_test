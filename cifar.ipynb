{
 "cells": [
  {
   "cell_type": "code",
   "execution_count": 1,
   "metadata": {
    "collapsed": false,
    "deletable": true,
    "editable": true
   },
   "outputs": [],
   "source": [
    "import tensorflow as tf\n",
    "import pandas as pd\n",
    "import numpy as np\n",
    "import matplotlib.pyplot as plt\n",
    "import cv2\n",
    "import urllib"
   ]
  },
  {
   "cell_type": "code",
   "execution_count": 2,
   "metadata": {
    "collapsed": false,
    "deletable": true,
    "editable": true
   },
   "outputs": [],
   "source": [
    "def unpickle(file):\n",
    "    dict=pd.read_pickle(file)\n",
    "    return dict[\"data\"], dict[\"labels\"]"
   ]
  },
  {
   "cell_type": "code",
   "execution_count": 3,
   "metadata": {
    "collapsed": false,
    "deletable": true,
    "editable": true
   },
   "outputs": [
    {
     "name": "stdout",
     "output_type": "stream",
     "text": [
      "(50000, 32, 32, 3) (50000,)\n"
     ]
    }
   ],
   "source": [
    "res=np.array([])\n",
    "yval=np.array([])\n",
    "res1, y1=unpickle(\"data/data_batch_1\")\n",
    "res2, y2=unpickle(\"data/data_batch_2\")\n",
    "res3, y3=unpickle(\"data/data_batch_3\")\n",
    "res4, y4=unpickle(\"data/data_batch_4\")\n",
    "res5, y5=unpickle(\"data/data_batch_5\")\n",
    "testx, testy=unpickle(\"data/test_batch\")\n",
    "def mod_shape(col):\n",
    "    newcol=np.zeros([len(col),32,32,3],dtype=np.float64)\n",
    "    for i in range(len(col)):\n",
    "        img=col[i].reshape((3,32,32))\n",
    "        newimg=np.transpose(img, (1, 2, 0))\n",
    "        newcol[i]=newimg/255;\n",
    "    return newcol\n",
    "res1=mod_shape(res1)\n",
    "res2=mod_shape(res2)\n",
    "res3=mod_shape(res3)\n",
    "res4=mod_shape(res4)\n",
    "res5=mod_shape(res5)\n",
    "testx=mod_shape(testx)\n",
    "yvals1=np.array(y1)\n",
    "yvals2=np.array(y2)\n",
    "yvals3=np.array(y3)\n",
    "yvals4=np.array(y4)\n",
    "yvals5=np.array(y5)\n",
    "res=np.append(res1,res2, axis=0)\n",
    "res=np.append(res,res3, axis=0)\n",
    "res=np.append(res,res4, axis=0)\n",
    "res=np.append(res,res5, axis=0)\n",
    "yvals=np.append(y1,y2)\n",
    "yvals=np.append(yvals,y3)\n",
    "yvals=np.append(yvals,y4)\n",
    "yvals=np.append(yvals,y5)\n",
    "print(np.shape(res),np.shape(yvals))"
   ]
  },
  {
   "cell_type": "code",
   "execution_count": 4,
   "metadata": {
    "collapsed": false,
    "deletable": true,
    "editable": true
   },
   "outputs": [],
   "source": [
    "#from tensorflow.examples.tutorials.mnist import input_data\n",
    "#mnist = input_data.read_data_sets('data/MNIST/', one_hot=False)\n"
   ]
  },
  {
   "cell_type": "code",
   "execution_count": 5,
   "metadata": {
    "collapsed": false,
    "deletable": true,
    "editable": true
   },
   "outputs": [
    {
     "data": {
      "image/png": "[encoded data removed]",
      "text/plain": [
       "<matplotlib.figure.Figure at 0x2cd54a8f7f0>"
      ]
     },
     "metadata": {},
     "output_type": "display_data"
    },
    {
     "name": "stdout",
     "output_type": "stream",
     "text": [
      "8\n",
      "<class 'numpy.ndarray'>\n"
     ]
    }
   ],
   "source": [
    "def plot_image(image):\n",
    "    plt.imshow(image, interpolation='none')\n",
    "    plt.show()\n",
    "plot_image(res[10088])\n",
    "print(yvals[10088])\n",
    "print(type(res))"
   ]
  },
  {
   "cell_type": "code",
   "execution_count": 17,
   "metadata": {
    "collapsed": false,
    "deletable": true,
    "editable": true
   },
   "outputs": [
    {
     "name": "stdout",
     "output_type": "stream",
     "text": [
      "(32, 32, 3)\n"
     ]
    },
    {
     "data": {
      "image/png": "[encoded data removed]",
      "text/plain": [
       "<matplotlib.figure.Figure at 0x2cf6569f748>"
      ]
     },
     "metadata": {},
     "output_type": "display_data"
    },
    {
     "data": {
      "text/plain": [
       "array([[[ 0.89803922,  0.89411765,  0.8745098 ],\n",
       "        [ 0.90196078,  0.89411765,  0.89019608],\n",
       "        [ 0.90196078,  0.90196078,  0.88235294],\n",
       "        ..., \n",
       "        [ 0.63137255,  0.69019608,  0.71372549],\n",
       "        [ 0.42745098,  0.53333333,  0.6       ],\n",
       "        [ 0.6745098 ,  0.70196078,  0.75294118]],\n",
       "\n",
       "       [[ 0.52156863,  0.56470588,  0.54901961],\n",
       "        [ 0.39215686,  0.40392157,  0.43921569],\n",
       "        [ 0.45490196,  0.50980392,  0.50980392],\n",
       "        ..., \n",
       "        [ 0.3254902 ,  0.4       ,  0.42352941],\n",
       "        [ 0.25490196,  0.31372549,  0.33333333],\n",
       "        [ 0.48627451,  0.54509804,  0.59215686]],\n",
       "\n",
       "       [[ 0.4       ,  0.69411765,  0.73333333],\n",
       "        [ 0.43137255,  0.7254902 ,  0.78823529],\n",
       "        [ 0.43921569,  0.69411765,  0.76078431],\n",
       "        ..., \n",
       "        [ 0.54901961,  0.61568627,  0.63137255],\n",
       "        [ 0.61568627,  0.67058824,  0.68627451],\n",
       "        [ 0.60392157,  0.6627451 ,  0.69411765]],\n",
       "\n",
       "       ..., \n",
       "       [[ 0.36078431,  0.40784314,  0.50196078],\n",
       "        [ 0.35686275,  0.40392157,  0.49803922],\n",
       "        [ 0.34509804,  0.39215686,  0.48627451],\n",
       "        ..., \n",
       "        [ 0.17254902,  0.18039216,  0.20784314],\n",
       "        [ 0.17647059,  0.18039216,  0.20784314],\n",
       "        [ 0.18039216,  0.18431373,  0.21176471]],\n",
       "\n",
       "       [[ 0.31372549,  0.36862745,  0.44313725],\n",
       "        [ 0.34509804,  0.4       ,  0.4745098 ],\n",
       "        [ 0.32156863,  0.37647059,  0.44705882],\n",
       "        ..., \n",
       "        [ 0.18039216,  0.18039216,  0.21176471],\n",
       "        [ 0.17254902,  0.17647059,  0.20392157],\n",
       "        [ 0.16862745,  0.17647059,  0.2       ]],\n",
       "\n",
       "       [[ 0.3372549 ,  0.38039216,  0.45098039],\n",
       "        [ 0.32941176,  0.36470588,  0.43921569],\n",
       "        [ 0.31764706,  0.36078431,  0.43529412],\n",
       "        ..., \n",
       "        [ 0.16862745,  0.17647059,  0.2       ],\n",
       "        [ 0.17254902,  0.17647059,  0.20392157],\n",
       "        [ 0.17647059,  0.18039216,  0.20784314]]])"
      ]
     },
     "execution_count": 17,
     "metadata": {},
     "output_type": "execute_result"
    }
   ],
   "source": [
    "def open_from_url(url):\n",
    "    #im = cv2.imread(\"test.png\")\n",
    "    #print(np.shape(im))\n",
    "    req = urllib.request.urlopen(url)\n",
    "    arr = np.asarray(bytearray(req.read()), dtype=np.uint8)\n",
    "    img = cv2.imdecode(arr,-1)\n",
    "    img=cv2.resize(img, (32, 32))[:,:,:3]\n",
    "    img=img/255\n",
    "    print(np.shape(img))\n",
    "    plt.imshow(img)\n",
    "    plt.show()\n",
    "    return img;\n",
    "\n",
    "open_from_url(\"http://smarthighways.net/wp-content/uploads/2015/12/google-car-square.png\")"
   ]
  },
  {
   "cell_type": "code",
   "execution_count": 7,
   "metadata": {
    "collapsed": false,
    "deletable": true,
    "editable": true
   },
   "outputs": [],
   "source": [
    "#batch_size=50;\n",
    "#batch=res[:batch_size,:]\n",
    "#ybatch=y[:batch_size]\n",
    "#print(np.shape(batch))"
   ]
  },
  {
   "cell_type": "code",
   "execution_count": 8,
   "metadata": {
    "collapsed": true,
    "deletable": true,
    "editable": true
   },
   "outputs": [],
   "source": [
    "input_height=32\n",
    "input_width=32\n",
    "channels=3\n",
    "\n",
    "def new_weights(amount_of_filters, filter_size,input_channels):\n",
    "    return tf.Variable(tf.truncated_normal([filter_size,filter_size,input_channels,amount_of_filters], stddev=0.05))\n",
    "def new_biases(length):\n",
    "    return tf.Variable(tf.constant(0.05, shape=[length]))"
   ]
  },
  {
   "cell_type": "code",
   "execution_count": 9,
   "metadata": {
    "collapsed": false,
    "deletable": true,
    "editable": true
   },
   "outputs": [],
   "source": [
    "from tensorflow.contrib.layers import fully_connected\n",
    "def convolution(name, input_X,input_channels,stride,filter_size,amount_of_filters,padding=\"VALID\",batch_normalize=False):\n",
    "    with tf.name_scope(name):\n",
    "        conv = tf.nn.conv2d(input_X,new_weights(amount_of_filters,filter_size,input_channels), strides=[1,stride,stride,1], padding=padding)\n",
    "        conv=conv+new_biases(amount_of_filters)\n",
    "        conv=tf.nn.relu(conv)\n",
    "        #max_pool = tf.nn.max_pool(X, ksize=[1,2,2,1], strides=[1,2,2,1],padding=\"VALID\")\n",
    "    return conv\n",
    "\n",
    "def pooling(name, input_X, stride, filter_size,padding=\"VALID\"):\n",
    "    with tf.name_scope(name):\n",
    "        max_pool = tf.nn.max_pool(input_X, ksize=[1,filter_size,filter_size,1], strides=[1,stride,stride,1],padding=padding)\n",
    "        max_pool = tf.nn.relu(max_pool)\n",
    "    return max_pool"
   ]
  },
  {
   "cell_type": "code",
   "execution_count": 10,
   "metadata": {
    "collapsed": false,
    "deletable": true,
    "editable": true
   },
   "outputs": [],
   "source": [
    "def preprocess(images,training):\n",
    "    for i in range(len(images)):\n",
    "        print(np.shape(images[i]))\n",
    "        pre_process_image(images[i],training)\n",
    "    return images\n",
    "def pre_process_image(image, training):\n",
    "    # Randomly flip the image horizontally.\n",
    "\n",
    "    image = tf.image.random_flip_left_right(image)\n",
    "    # Randomly adjust hue, contrast and saturation.\n",
    "    image = tf.image.random_hue(image, max_delta=0.05)\n",
    "    image = tf.image.random_contrast(image, lower=0.3, upper=1.0)\n",
    "    image = tf.image.random_brightness(image, max_delta=0.2)\n",
    "    image = tf.image.random_saturation(image, lower=0.0, upper=2.0)\n",
    "\n",
    "    # Some of these functions may overflow and result in pixel\n",
    "    # values beyond the [0, 1] range. It is unclear from the\n",
    "    # documentation of TensorFlow 0.10.0rc0 whether this is\n",
    "    # intended. A simple solution is to limit the range.\n",
    "\n",
    "    # Limit the image pixels between [0, 1] in case of overflow.\n",
    "    image = tf.minimum(image, 1.0)\n",
    "    image = tf.maximum(image, 0.0)\n",
    "\n",
    "    return image\n",
    "X = tf.placeholder(tf.float32, shape=(None, input_height, input_width, channels),name=\"X\")\n",
    "y = tf.placeholder(tf.int32, shape=(None),name=\"y\")\n",
    "is_training = tf.placeholder(tf.bool,name=\"is_training\")\n",
    "newX=tf.map_fn(lambda image: tf.cond(is_training,lambda: pre_process_image(image, is_training), lambda: image), X)"
   ]
  },
  {
   "cell_type": "code",
   "execution_count": 11,
   "metadata": {
    "collapsed": false,
    "deletable": true,
    "editable": true,
    "scrolled": true
   },
   "outputs": [],
   "source": [
    "from tensorflow.contrib.layers import dropout\n",
    "with tf.name_scope(\"network\"):\n",
    "    \n",
    "    newX=X\n",
    "    \n",
    "    conv1=convolution(\"conv1\",newX,channels,1,5,64,batch_normalize=True)\n",
    "    pool1=pooling(\"pool1\",conv1,2,2)\n",
    "    conv2=convolution(\"conv2\",pool1,64,1,5,64)\n",
    "    pool2=pooling(\"pool2\",conv2,4,4)\n",
    "    flatconv=tf.reshape(pool2, [-1, 256])\n",
    "    full1 = fully_connected(flatconv, 256, scope=\"full1\",activation_fn=tf.nn.relu)\n",
    "    full2 = fully_connected(full1, 128, scope=\"full2\",activation_fn=tf.nn.relu)\n",
    "    out = fully_connected(full2, 10, scope=\"out\", activation_fn=None)"
   ]
  },
  {
   "cell_type": "code",
   "execution_count": 12,
   "metadata": {
    "collapsed": false,
    "deletable": true,
    "editable": true
   },
   "outputs": [],
   "source": [
    "with tf.name_scope(\"loss\"):\n",
    "    xentropy = tf.nn.sparse_softmax_cross_entropy_with_logits(out, y)\n",
    "    loss = tf.reduce_mean(xentropy, name=\"loss\")\n",
    "\n",
    "learning_rate = 0.01\n",
    "with tf.name_scope(\"train\"):\n",
    "    optimizer = tf.train.AdamOptimizer(learning_rate=1e-4)\n",
    "    training_op = optimizer.minimize(loss)\n",
    "\n",
    "with tf.name_scope(\"eval\"):\n",
    "    correct = tf.nn.in_top_k(out, y, 1)\n",
    "    accuracy = tf.reduce_mean(tf.cast(correct, tf.float32))"
   ]
  },
  {
   "cell_type": "code",
   "execution_count": 13,
   "metadata": {
    "collapsed": false,
    "deletable": true,
    "editable": true
   },
   "outputs": [],
   "source": [
    "def get_batch(iteration):\n",
    "    starti=(iteration)*50\n",
    "    endi=(iteration+1)*50\n",
    "    return res[starti:endi,:],yvals[starti:endi]"
   ]
  },
  {
   "cell_type": "code",
   "execution_count": 28,
   "metadata": {
    "collapsed": false
   },
   "outputs": [],
   "source": [
    "import os\n",
    "save_dir = 'checkpoints/'\n",
    "if not os.path.exists(save_dir):\n",
    "    os.makedirs(save_dir)\n",
    "save_path = os.path.join(save_dir, 'cifar10_cnn')"
   ]
  },
  {
   "cell_type": "code",
   "execution_count": 29,
   "metadata": {
    "collapsed": false,
    "deletable": true,
    "editable": true
   },
   "outputs": [
    {
     "name": "stdout",
     "output_type": "stream",
     "text": [
      " Accuracy: 0.4\n",
      " test: 0.4206\n",
      " Accuracy: 0.42\n",
      " test: 0.4732\n",
      " Accuracy: 0.48\n",
      " test: 0.5037\n",
      " Accuracy: 0.48\n",
      " test: 0.527\n",
      " Accuracy: 0.52\n",
      " test: 0.5437\n",
      " Accuracy: 0.54\n",
      " test: 0.5576\n",
      " Accuracy: 0.56\n",
      " test: 0.5739\n",
      " Accuracy: 0.62\n",
      " test: 0.5821\n",
      " Accuracy: 0.64\n",
      " test: 0.589\n",
      " Accuracy: 0.64\n",
      " test: 0.5977\n",
      " Accuracy: 0.64\n",
      " test: 0.604\n",
      " Accuracy: 0.64\n",
      " test: 0.6125\n",
      " Accuracy: 0.64\n",
      " test: 0.6164\n",
      " Accuracy: 0.64\n",
      " test: 0.6222\n",
      " Accuracy: 0.64\n",
      " test: 0.6248\n",
      " Accuracy: 0.64\n",
      " test: 0.6304\n",
      " Accuracy: 0.64\n",
      " test: 0.633\n",
      " Accuracy: 0.66\n",
      " test: 0.6368\n",
      " Accuracy: 0.68\n",
      " test: 0.6414\n",
      " Accuracy: 0.68\n",
      " test: 0.645\n",
      " Accuracy: 0.68\n",
      " test: 0.6469\n",
      "DONE\n",
      "checkpoints/cifar10_cnn\n"
     ]
    }
   ],
   "source": [
    "init = tf.global_variables_initializer()\n",
    "saver = tf.train.Saver()\n",
    "n_epochs=400;\n",
    "batch_iterations=500\n",
    "batch_size=50\n",
    "session=tf.Session();\n",
    "with session as sess:\n",
    "    init.run()\n",
    "    for epoch in range(10000):\n",
    "        for iteration in range(len(res) // batch_size):\n",
    "            X_batch,y_batch=get_batch(iteration)\n",
    "            sess.run(training_op,feed_dict={X: X_batch, y:y_batch,is_training:True})\n",
    "        acc=accuracy.eval(feed_dict={X: X_batch, y:y_batch,is_training:False})\n",
    "        test=accuracy.eval(feed_dict={X: testx, y:testy,is_training:False})\n",
    "        print(\" Accuracy:\",acc)\n",
    "        print(\" test:\",test)\n",
    "        if(epoch%100==0):\n",
    "            save_path = saver.save(sess, save_path=save_path, global_step=epoch)\n",
    "print(\"DONE\")\n",
    "print(save_path)"
   ]
  },
  {
   "cell_type": "code",
   "execution_count": 32,
   "metadata": {
    "collapsed": true
   },
   "outputs": [],
   "source": [
    "def softmax(x):\n",
    "    \"\"\"Compute softmax values for each sets of scores in x.\"\"\"\n",
    "    sf = np.exp(x)\n",
    "    sf = sf/np.sum(sf, axis=0)\n",
    "    return sf"
   ]
  },
  {
   "cell_type": "code",
   "execution_count": 36,
   "metadata": {
    "collapsed": true
   },
   "outputs": [],
   "source": [
    "def category(i):\n",
    "    if i==0:\n",
    "        return \"airplane\"\n",
    "    if i==1:\n",
    "        return \"auto\"\n",
    "    if i==2:\n",
    "        return \"bird\"\n",
    "    if i==3:\n",
    "        return \"cat\"\n",
    "    if i==4:\n",
    "        return \"deer\"\n",
    "    if i==5:\n",
    "        return \"dog\"\n",
    "    if i==6:\n",
    "        return \"frog\"\n",
    "    if i==7:\n",
    "        return \"horse\"\n",
    "    if i==8:\n",
    "        return \"ship\"\n",
    "    if i==9:\n",
    "        return \"truck\"\n",
    "    return \"Failed\""
   ]
  },
  {
   "cell_type": "markdown",
   "metadata": {
    "collapsed": true,
    "deletable": true,
    "editable": true
   },
   "source": [
    "LeNet=0.8% accuracy, 0.4 on testset"
   ]
  },
  {
   "cell_type": "code",
   "execution_count": 54,
   "metadata": {
    "collapsed": false,
    "deletable": true,
    "editable": true
   },
   "outputs": [
    {
     "name": "stdout",
     "output_type": "stream",
     "text": [
      "(32, 32, 3)\n"
     ]
    },
    {
     "data": {
      "image/png": "[encoded data removed]",
      "text/plain": [
       "<matplotlib.figure.Figure at 0x2cf88282438>"
      ]
     },
     "metadata": {},
     "output_type": "display_data"
    },
    {
     "name": "stdout",
     "output_type": "stream",
     "text": [
      "airplane\n",
      "[[ 1.63855422 -3.35176182  1.29341507  0.58208096 -0.09802693  0.77347374\n",
      "  -1.51353848 -2.1527822  -1.68892729 -3.16714454]]\n"
     ]
    }
   ],
   "source": [
    "with tf.Session() as sess:\n",
    "    init.run()\n",
    "    saver.restore(sess, \"checkpoints/cifar10_cnn\")\n",
    "    result=out.eval(feed_dict={X: [open_from_url(\"http://blueearthchamber.com/wp-content/uploads/2015/09/Airplane.jpg\")]})\n",
    "    print(category(np.argmax(result)))\n",
    "    print(result)"
   ]
  },
  {
   "cell_type": "code",
   "execution_count": null,
   "metadata": {
    "collapsed": true,
    "deletable": true,
    "editable": true
   },
   "outputs": [],
   "source": []
  }
 ],
 "metadata": {
  "kernelspec": {
   "display_name": "Python 3",
   "language": "python",
   "name": "python3"
  },
  "language_info": {
   "codemirror_mode": {
    "name": "ipython",
    "version": 3
   },
   "file_extension": ".py",
   "mimetype": "text/x-python",
   "name": "python",
   "nbconvert_exporter": "python",
   "pygments_lexer": "ipython3",
   "version": "3.5.3"
  }
 },
 "nbformat": 4,
 "nbformat_minor": 2
}
